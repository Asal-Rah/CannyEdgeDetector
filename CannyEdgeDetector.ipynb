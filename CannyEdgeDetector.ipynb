{
  "nbformat": 4,
  "nbformat_minor": 0,
  "metadata": {
    "colab": {
      "provenance": []
    },
    "kernelspec": {
      "name": "python3",
      "display_name": "Python 3"
    },
    "language_info": {
      "name": "python"
    }
  },
  "cells": [
    {
      "cell_type": "code",
      "execution_count": null,
      "metadata": {
        "id": "Sg-el5Dl5-4m"
      },
      "outputs": [],
      "source": [
        "import numpy as np\n",
        "import cv2"
      ]
    },
    {
      "cell_type": "code",
      "source": [
        "img = np.array([[0,0,0,0,1,1,1,0,0,0,0],\n",
        " [0,0,0,1,1,2,1,1,0,0,0],\n",
        "  [1,1,4,5,7,13,7,5,4,1,1],\n",
        "   [1,1,7,6,8,14,8,6,7,1,1],\n",
        "    [2,2,7,5,11,15,11,5,7,2,2],\n",
        "    [2,5,11,9,12,15,12,9,11,5,2],\n",
        "    [2,2,7,5,11,15,11,5,7,2,2],\n",
        "     [1,1,7,6,8,14,8,6,7,1,1],\n",
        "      [1,1,4,5,7,13,7,5,4,1,1],\n",
        "      [0,0,0,1,1,2,1,1,0,0,0],\n",
        "      [0,0,0,0,1,1,1,0,0,0,0]]\n",
        "               )"
      ],
      "metadata": {
        "id": "7ziZbH316tAF"
      },
      "execution_count": null,
      "outputs": []
    },
    {
      "cell_type": "code",
      "source": [
        "smoothed_img = np.empty((11, 11))"
      ],
      "metadata": {
        "id": "s4fIZxRR8nL2"
      },
      "execution_count": null,
      "outputs": []
    },
    {
      "cell_type": "code",
      "source": [
        "for i in range(img.shape[0]):\n",
        "  for j in range(img.shape[1]):\n",
        "    if (i == 0 and j == 0):\n",
        "      smoothed_img[i,j] = img[i,j] = 4 * img[i,j] + 2 * img[i,j+1] + 2 * img[i+1,j] + 1 * img[i+1,j+1]\n",
        "    elif(i== 0 and j == 10) :\n",
        "      smoothed_img[i,j] = 2 * img[i,j-1] + 4 * img[i,j] + 1 * img[i+1,j-1] + 2 * img[i+1,j]\n",
        "    elif(i == 10 and j == 0 ):\n",
        "      smoothed_img[i,j] = 4 * img[i,j] + 2 * img[i,j+1] + 2 * img[i-1,j] + 1 * img[i-1,j+1]\n",
        "    elif(i == 10 and j == 10):\n",
        "      smoothed_img[i,j] = 4 * img[i,j] + 2 * img[i,j-1] + 2 * img[i-1 , j] + 1 * img[i-1,j-1]\n",
        "    elif( i == 0 and j != 10 and j!= 0):\n",
        "      smoothed_img[i,j] =  2 * img[i,j-1] + 4 * img[i,j] + 2*img[i,j+1] + 1 *img[i+1,j-1] + 2 * img[i+1,j] + 1 * img[i+1,j+1]\n",
        "    elif( i == 10 and j != 0 and j!=10):\n",
        "      smoothed_img[i,j] = 1 * img[i-1,j-1] + 2 * img[i-1,j] + 1 * img[i-1,j+1]\n",
        "      + 2 * img[i,j-1] + 4 * img[i,j] + 2*img[i,j+1]\n",
        "    elif ( j == 0 and i != 0 and i!= 10) :\n",
        "      smoothed_img[i,j] =  2 * img[i-1,j] + 1 * img[i-1,j+1]\n",
        "      + 4 * img[i,j] + 2*img[i,j+1] + 2 * img[i+1,j] + 1 * img[i+1,j+1]\n",
        "    elif(j == 10 and i != 0 and i!= 10) :\n",
        "      smoothed_img[i,j] = 1*img[i-1,j-1] + 2 * img[i-1,j]\n",
        "      + 2 * img[i,j-1] + 4 * img[i,j] + 1 *img[i+1,j-1] + 2 * img[i+1,j]\n",
        "    else:\n",
        "     smoothed_img[i,j] = 1*img[i-1,j-1] + 2 * img[i-1,j] + 1 * img[i-1,j+1]\n",
        "     + 2 * img[i,j-1] + 4 * img[i,j] + 2*img[i,j+1] + 1 *img[i+1,j-1] + 2 * img[i+1,j] + 1 * img[i+1,j+1]"
      ],
      "metadata": {
        "id": "pPywZF0V93v0"
      },
      "execution_count": null,
      "outputs": []
    },
    {
      "cell_type": "code",
      "source": [
        "print(smoothed_img)"
      ],
      "metadata": {
        "colab": {
          "base_uri": "https://localhost:8080/"
        },
        "id": "-ibFTEpaMKD_",
        "outputId": "0e1bfc9a-6690-4a8a-c340-87ba2c903b91"
      },
      "execution_count": null,
      "outputs": [
        {
          "output_type": "stream",
          "name": "stdout",
          "text": [
            "[[ 0.  0.  1.  5. 11. 14. 11.  5.  1.  0.  0.]\n",
            " [ 0.  0.  0.  1.  3.  4.  3.  1.  0.  0.  0.]\n",
            " [ 0.  0.  1.  3.  5.  6.  5.  3.  1.  0.  0.]\n",
            " [ 3.  7. 14. 21. 32. 40. 32. 21. 14.  7.  3.]\n",
            " [ 3. 10. 21. 27. 36. 44. 36. 27. 21. 10.  3.]\n",
            " [ 6. 13. 21. 28. 42. 52. 42. 28. 21. 13.  6.]\n",
            " [ 9. 23. 36. 41. 48. 54. 48. 41. 36. 23.  9.]\n",
            " [ 6. 13. 21. 28. 42. 52. 42. 28. 21. 13.  6.]\n",
            " [ 3. 10. 21. 27. 36. 44. 36. 27. 21. 10.  3.]\n",
            " [ 3.  7. 14. 21. 32. 40. 32. 21. 14.  7.  3.]\n",
            " [ 0.  0.  1.  3.  5.  6.  5.  3.  1.  0.  0.]]\n"
          ]
        }
      ]
    },
    {
      "cell_type": "code",
      "source": [
        "kernel_x = np.array([[-1, 0, 1], [-2, 0, 2], [-1, 0, 1]])\n",
        "kernel_y = np.array([[-1, -2, -1], [0, 0, 0], [1, 2, 1]])"
      ],
      "metadata": {
        "id": "hhH6Ra00OuxS"
      },
      "execution_count": null,
      "outputs": []
    },
    {
      "cell_type": "code",
      "source": [
        "gradient_mag = np.empty((11, 11))"
      ],
      "metadata": {
        "id": "0AN2SEsCO8gj"
      },
      "execution_count": null,
      "outputs": []
    },
    {
      "cell_type": "code",
      "source": [
        "gradient_angle = np.empty((11, 11))"
      ],
      "metadata": {
        "id": "XKl3sM51Qo58"
      },
      "execution_count": null,
      "outputs": []
    },
    {
      "cell_type": "code",
      "source": [
        "for x in range(1, smoothed_img.shape[0] - 1):\n",
        "    for y in range(1, smoothed_img.shape[1] - 1):\n",
        "        window = smoothed_img[x - 1 : x + 2, y - 1 : y + 2]\n",
        "        mag_x = np.sum(window * kernel_x)\n",
        "        mag_y = np.sum(window * kernel_y)\n",
        "        gradient_angle[x,y] = np.arctan2(mag_y, mag_x)\n",
        "        gradient_mag[x, y] = np.sqrt(mag_x**2 + mag_y**2)"
      ],
      "metadata": {
        "id": "UJWA_0nHOx6_"
      },
      "execution_count": null,
      "outputs": []
    },
    {
      "cell_type": "code",
      "source": [
        "print(gradient_mag)"
      ],
      "metadata": {
        "colab": {
          "base_uri": "https://localhost:8080/"
        },
        "id": "1pPlUJFdORRv",
        "outputId": "08e774ec-432b-4c87-d22e-4e652908c3fd"
      },
      "execution_count": null,
      "outputs": [
        {
          "output_type": "stream",
          "name": "stdout",
          "text": [
            "[[  0.           0.           1.           5.          11.\n",
            "   14.          11.           5.           1.           0.\n",
            "    0.        ]\n",
            " [  0.           2.          10.19803903  22.36067977  28.42534081\n",
            "   28.          28.42534081  22.36067977  10.19803903   2.\n",
            "    0.        ]\n",
            " [  0.          33.61547263  58.87274412  87.92041856 117.38824473\n",
            "  130.         117.38824473  87.92041856  58.87274412  33.61547263\n",
            "    0.        ]\n",
            " [  3.          59.41380311  88.20430828 113.25193155 136.89411967\n",
            "  138.         136.89411967 113.25193155  88.20430828  59.41380311\n",
            "    3.        ]\n",
            " [  3.          65.78753681  68.54195795  75.6439026   86.31338251\n",
            "   44.          86.31338251  75.6439026   68.54195795  65.78753681\n",
            "    3.        ]\n",
            " [  6.          88.50988645  86.45229899  88.23831367  91.58602513\n",
            "   44.          91.58602513  88.23831367  86.45229899  88.50988645\n",
            "    6.        ]\n",
            " [  9.          84.          66.          66.          74.\n",
            "    0.          74.          66.          66.          84.\n",
            "    9.        ]\n",
            " [  6.          88.50988645  86.45229899  88.23831367  91.58602513\n",
            "   44.          91.58602513  88.23831367  86.45229899  88.50988645\n",
            "    6.        ]\n",
            " [  3.          65.78753681  68.54195795  75.6439026   86.31338251\n",
            "   44.          86.31338251  75.6439026   68.54195795  65.78753681\n",
            "    3.        ]\n",
            " [  3.          59.41380311  88.20430828 113.25193155 136.89411967\n",
            "  138.         136.89411967 113.25193155  88.20430828  59.41380311\n",
            "    3.        ]\n",
            " [  0.           0.           1.           3.           5.\n",
            "    6.           5.           3.           1.           0.\n",
            "    0.        ]]\n"
          ]
        }
      ]
    },
    {
      "cell_type": "code",
      "source": [
        "gradient_mag = np.round(gradient_mag, 0)\n"
      ],
      "metadata": {
        "id": "c8HZG_LkPaFj"
      },
      "execution_count": null,
      "outputs": []
    },
    {
      "cell_type": "code",
      "source": [
        "print(gradient_mag)"
      ],
      "metadata": {
        "colab": {
          "base_uri": "https://localhost:8080/"
        },
        "id": "o6aKN63QPeU4",
        "outputId": "afba8785-9b6c-4084-dea9-1e8fb169b01b"
      },
      "execution_count": null,
      "outputs": [
        {
          "output_type": "stream",
          "name": "stdout",
          "text": [
            "[[  0.   0.   1.   5.  11.  14.  11.   5.   1.   0.   0.]\n",
            " [  0.   2.  10.  22.  28.  28.  28.  22.  10.   2.   0.]\n",
            " [  0.  34.  59.  88. 117. 130. 117.  88.  59.  34.   0.]\n",
            " [  3.  59.  88. 113. 137. 138. 137. 113.  88.  59.   3.]\n",
            " [  3.  66.  69.  76.  86.  44.  86.  76.  69.  66.   3.]\n",
            " [  6.  89.  86.  88.  92.  44.  92.  88.  86.  89.   6.]\n",
            " [  9.  84.  66.  66.  74.   0.  74.  66.  66.  84.   9.]\n",
            " [  6.  89.  86.  88.  92.  44.  92.  88.  86.  89.   6.]\n",
            " [  3.  66.  69.  76.  86.  44.  86.  76.  69.  66.   3.]\n",
            " [  3.  59.  88. 113. 137. 138. 137. 113.  88.  59.   3.]\n",
            " [  0.   0.   1.   3.   5.   6.   5.   3.   1.   0.   0.]]\n"
          ]
        }
      ]
    },
    {
      "cell_type": "code",
      "source": [
        "nms_image = np.zeros_like(img)"
      ],
      "metadata": {
        "id": "MYHRriU_QDL8"
      },
      "execution_count": null,
      "outputs": []
    },
    {
      "cell_type": "code",
      "source": [
        "gradient_angle"
      ],
      "metadata": {
        "colab": {
          "base_uri": "https://localhost:8080/"
        },
        "id": "IfmzILiVQjL2",
        "outputId": "73335a0d-41fd-4cf9-c92e-e062619627d9"
      },
      "execution_count": null,
      "outputs": [
        {
          "output_type": "execute_result",
          "data": {
            "text/plain": [
              "array([[ 6.86724078e-310,  6.86724078e-310,  4.86495785e-310,\n",
              "         4.86495785e-310,  0.00000000e+000,  0.00000000e+000,\n",
              "         0.00000000e+000,  0.00000000e+000,  0.00000000e+000,\n",
              "         0.00000000e+000,  0.00000000e+000],\n",
              "       [ 0.00000000e+000,  0.00000000e+000, -1.97395560e-001,\n",
              "        -4.63647609e-001, -8.85066816e-001, -1.57079633e+000,\n",
              "        -2.25652584e+000, -2.67794504e+000, -2.94419709e+000,\n",
              "         3.14159265e+000,  0.00000000e+000],\n",
              "       [ 0.00000000e+000,  1.17371688e+000,  1.20606151e+000,\n",
              "         1.23465828e+000,  1.32994987e+000,  1.57079633e+000,\n",
              "         1.81164278e+000,  1.90693438e+000,  1.93553114e+000,\n",
              "         1.96787577e+000,  0.00000000e+000],\n",
              "       [ 0.00000000e+000,  8.09203190e-001,  9.95371676e-001,\n",
              "         1.06369782e+000,  1.13328655e+000,  1.57079633e+000,\n",
              "         2.00830610e+000,  2.07789483e+000,  2.14622098e+000,\n",
              "         2.33238946e+000,  0.00000000e+000],\n",
              "       [ 0.00000000e+000,  3.40978953e-001,  4.04891786e-001,\n",
              "         4.22251153e-001,  4.68828910e-001,  1.57079633e+000,\n",
              "         2.67276374e+000,  2.71934150e+000,  2.73670087e+000,\n",
              "         2.80061370e+000,  0.00000000e+000],\n",
              "       [ 0.00000000e+000,  5.59796920e-001,  7.19918138e-001,\n",
              "         6.72971033e-001,  5.51654983e-001,  1.57079633e+000,\n",
              "         2.58993767e+000,  2.46862162e+000,  2.42167452e+000,\n",
              "         2.58179573e+000,  0.00000000e+000],\n",
              "       [ 0.00000000e+000,  0.00000000e+000,  0.00000000e+000,\n",
              "         0.00000000e+000,  0.00000000e+000,  0.00000000e+000,\n",
              "         3.14159265e+000,  3.14159265e+000,  3.14159265e+000,\n",
              "         3.14159265e+000,  0.00000000e+000],\n",
              "       [ 0.00000000e+000, -5.59796920e-001, -7.19918138e-001,\n",
              "        -6.72971033e-001, -5.51654983e-001, -1.57079633e+000,\n",
              "        -2.58993767e+000, -2.46862162e+000, -2.42167452e+000,\n",
              "        -2.58179573e+000,  0.00000000e+000],\n",
              "       [ 0.00000000e+000, -3.40978953e-001, -4.04891786e-001,\n",
              "        -4.22251153e-001, -4.68828910e-001, -1.57079633e+000,\n",
              "        -2.67276374e+000, -2.71934150e+000, -2.73670087e+000,\n",
              "        -2.80061370e+000,  1.72922976e-322],\n",
              "       [ 2.47477482e-320, -8.09203190e-001, -9.95371676e-001,\n",
              "        -1.06369782e+000, -1.13328655e+000, -1.57079633e+000,\n",
              "        -2.00830610e+000, -2.07789483e+000, -2.14622098e+000,\n",
              "        -2.33238946e+000,  3.95252517e-321],\n",
              "       [ 1.48219694e-323,  6.86717675e-310,  4.86495770e-310,\n",
              "         0.00000000e+000,  0.00000000e+000,  0.00000000e+000,\n",
              "         0.00000000e+000,  4.94065646e-324,  0.00000000e+000,\n",
              "         6.86717675e-310,  0.00000000e+000]])"
            ]
          },
          "metadata": {},
          "execution_count": 29
        }
      ]
    },
    {
      "cell_type": "code",
      "source": [
        "for x in range(1, img.shape[0] - 1):\n",
        "    for y in range(1, img.shape[1] - 1):\n",
        "        angle = gradient_angle[x, y]\n",
        "        mag1, mag2 = gradient_mag[x - 1, y], gradient_mag[x + 1, y]\n",
        "        if (angle >= 0 and mag1 <= gradient_mag[x, y] >= mag2) or \\\n",
        "           (angle < 0 and mag1 <= gradient_mag[x, y] >= mag2):\n",
        "            nms_image[x, y] = gradient_mag[x, y]"
      ],
      "metadata": {
        "id": "p9bBZfYtP1Ph"
      },
      "execution_count": null,
      "outputs": []
    },
    {
      "cell_type": "code",
      "source": [
        "print(nms_image)"
      ],
      "metadata": {
        "colab": {
          "base_uri": "https://localhost:8080/"
        },
        "id": "vSAG0OCYLLvU",
        "outputId": "a6ee5701-a657-4803-f412-767757ffeb54"
      },
      "execution_count": null,
      "outputs": [
        {
          "output_type": "stream",
          "name": "stdout",
          "text": [
            "[[  0   0   0   0   0   0   0   0   0   0   0]\n",
            " [  0   0   0   0   0   0   0   0   0   0   0]\n",
            " [  0   0   0   0   0   0   0   0   0   0   0]\n",
            " [  0   0  88 113 137 138 137 113  88   0   0]\n",
            " [  0   0   0   0   0   0   0   0   0   0   0]\n",
            " [  0  89  86  88  92  44  92  88  86  89   0]\n",
            " [  0   0   0   0   0   0   0   0   0   0   0]\n",
            " [  0  89  86  88  92  44  92  88  86  89   0]\n",
            " [  0   0   0   0   0   0   0   0   0   0   0]\n",
            " [  0   0  88 113 137 138 137 113  88   0   0]\n",
            " [  0   0   0   0   0   0   0   0   0   0   0]]\n"
          ]
        }
      ]
    },
    {
      "cell_type": "code",
      "source": [
        "low_threshold = 88\n",
        "high_threshold = 100"
      ],
      "metadata": {
        "id": "OzD5Qi4xRLQy"
      },
      "execution_count": null,
      "outputs": []
    },
    {
      "cell_type": "code",
      "source": [
        "edge_map = np.zeros_like(img)"
      ],
      "metadata": {
        "id": "0uDrtPAtR1dt"
      },
      "execution_count": null,
      "outputs": []
    },
    {
      "cell_type": "code",
      "source": [
        "edge_map[(nms_image >= low_threshold) & (nms_image < high_threshold)] = 128 #weak edges\n",
        "edge_map[(nms_image >= high_threshold)] = 255 #strong edges"
      ],
      "metadata": {
        "id": "piFg59Z2R7jD"
      },
      "execution_count": null,
      "outputs": []
    },
    {
      "cell_type": "code",
      "source": [
        "edge_map"
      ],
      "metadata": {
        "colab": {
          "base_uri": "https://localhost:8080/"
        },
        "id": "29gTd6wYSADE",
        "outputId": "65046b25-92ec-47b9-bfa1-fc6878457374"
      },
      "execution_count": null,
      "outputs": [
        {
          "output_type": "execute_result",
          "data": {
            "text/plain": [
              "array([[  0,   0,   0,   0,   0,   0,   0,   0,   0,   0,   0],\n",
              "       [  0,   0,   0,   0,   0,   0,   0,   0,   0,   0,   0],\n",
              "       [  0,   0,   0,   0,   0,   0,   0,   0,   0,   0,   0],\n",
              "       [  0,   0, 128, 255, 255, 255, 255, 255, 128,   0,   0],\n",
              "       [  0,   0,   0,   0,   0,   0,   0,   0,   0,   0,   0],\n",
              "       [  0, 128,   0, 128, 128,   0, 128, 128,   0, 128,   0],\n",
              "       [  0,   0,   0,   0,   0,   0,   0,   0,   0,   0,   0],\n",
              "       [  0, 128,   0, 128, 128,   0, 128, 128,   0, 128,   0],\n",
              "       [  0,   0,   0,   0,   0,   0,   0,   0,   0,   0,   0],\n",
              "       [  0,   0, 128, 255, 255, 255, 255, 255, 128,   0,   0],\n",
              "       [  0,   0,   0,   0,   0,   0,   0,   0,   0,   0,   0]])"
            ]
          },
          "metadata": {},
          "execution_count": 38
        }
      ]
    },
    {
      "cell_type": "code",
      "source": [
        "#weak edges that are connected to the strong edges are considered edge but the others are considered as \"not an edge\""
      ],
      "metadata": {
        "id": "Gt3eebIjMXPD"
      },
      "execution_count": null,
      "outputs": []
    },
    {
      "cell_type": "code",
      "source": [
        "for i in range(edge_map.shape[0] -1):\n",
        "  for j in range(edge_map.shape[1] - 1) :\n",
        "    if(i!= 0 and j != 0):\n",
        "      if(edge_map[i-1,j] == 255 or edge_map[i,j-1] == 255 or edge_map[i,j+1] == 255 or edge_map[i+1,j] == 255 ) :\n",
        "        continue\n",
        "      else:\n",
        "        edge_map[i,j] = 0"
      ],
      "metadata": {
        "id": "bqfKaGwFMjqO"
      },
      "execution_count": null,
      "outputs": []
    },
    {
      "cell_type": "code",
      "source": [
        "print(edge_map)"
      ],
      "metadata": {
        "colab": {
          "base_uri": "https://localhost:8080/"
        },
        "id": "5jl167aYNNr5",
        "outputId": "45db270d-5a7f-40fa-c8d5-7bda56caa1de"
      },
      "execution_count": null,
      "outputs": [
        {
          "output_type": "stream",
          "name": "stdout",
          "text": [
            "[[  0   0   0   0   0   0   0   0   0   0   0]\n",
            " [  0   0   0   0   0   0   0   0   0   0   0]\n",
            " [  0   0   0   0   0   0   0   0   0   0   0]\n",
            " [  0   0 128 255 255 255 255 255 128   0   0]\n",
            " [  0   0   0   0   0   0   0   0   0   0   0]\n",
            " [  0   0   0   0   0   0   0   0   0   0   0]\n",
            " [  0   0   0   0   0   0   0   0   0   0   0]\n",
            " [  0   0   0   0   0   0   0   0   0   0   0]\n",
            " [  0   0   0   0   0   0   0   0   0   0   0]\n",
            " [  0   0 128 255 255 255 255 255 128   0   0]\n",
            " [  0   0   0   0   0   0   0   0   0   0   0]]\n"
          ]
        }
      ]
    },
    {
      "cell_type": "code",
      "source": [],
      "metadata": {
        "id": "eXkirUDnPVgs"
      },
      "execution_count": null,
      "outputs": []
    }
  ]
}